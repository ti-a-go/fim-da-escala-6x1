{
  "nbformat": 4,
  "nbformat_minor": 0,
  "metadata": {
    "colab": {
      "provenance": [],
      "authorship_tag": "ABX9TyNzubGoWXwIzxLr713sPNAt",
      "include_colab_link": true
    },
    "kernelspec": {
      "name": "python3",
      "display_name": "Python 3"
    },
    "language_info": {
      "name": "python"
    }
  },
  "cells": [
    {
      "cell_type": "markdown",
      "metadata": {
        "id": "view-in-github",
        "colab_type": "text"
      },
      "source": [
        "<a href=\"https://colab.research.google.com/github/ti-a-go/fim-da-escala-6x1/blob/main/Horas_Trabalhadas_no_ano.ipynb\" target=\"_parent\"><img src=\"https://colab.research.google.com/assets/colab-badge.svg\" alt=\"Open In Colab\"/></a>"
      ]
    },
    {
      "cell_type": "markdown",
      "source": [
        "# Quantas horas trabalhamos por ano nas escalas 6x1 e 5x1?"
      ],
      "metadata": {
        "id": "5DjQPwPP3hkS"
      }
    },
    {
      "cell_type": "markdown",
      "source": [
        "Um ano possui 365 dias. Se dividirmos a quantidade de dias do ano por 7 temos aproximadamente 52 semanas:"
      ],
      "metadata": {
        "id": "0cB5SSVv3rU4"
      }
    },
    {
      "cell_type": "code",
      "execution_count": 1,
      "metadata": {
        "colab": {
          "base_uri": "https://localhost:8080/"
        },
        "id": "ogohrBTR3chD",
        "outputId": "8b90992a-db10-420f-b87c-1b162d5b2066"
      },
      "outputs": [
        {
          "output_type": "execute_result",
          "data": {
            "text/plain": [
              "52.142857142857146"
            ]
          },
          "metadata": {},
          "execution_count": 1
        }
      ],
      "source": [
        "365 / 7"
      ]
    },
    {
      "cell_type": "markdown",
      "source": [
        "Atualmente existem duas principais escalas de trabalho no Brasil:\n",
        "- 6x1: 44 horas trabalhadas por semana\n",
        "- 5x1: 40 horas trabalhadas por semana\n",
        "\n",
        "Subtraíndo as 4 semanas correspondentes às férias, teremos 48 semanas trabalhadas.\n",
        "\n",
        "A partir disso podemos fazer alguns calculos.\n",
        "\n",
        "Note que estamos desconsiderando os fériados para simplificar as nossas contas."
      ],
      "metadata": {
        "id": "KjOGjXaL7CLW"
      }
    },
    {
      "cell_type": "markdown",
      "source": [
        "## Horas trabalhadas por ano para cada escala"
      ],
      "metadata": {
        "id": "ZJvc8Kcr7ktP"
      }
    },
    {
      "cell_type": "markdown",
      "source": [
        "### Escala 5x1 = 1920 horas"
      ],
      "metadata": {
        "id": "DentGrt97rFt"
      }
    },
    {
      "cell_type": "markdown",
      "source": [
        "40 horas x 48 semanas = 1920 horas trabalhadas por ano."
      ],
      "metadata": {
        "id": "Jcr3_iil73Wj"
      }
    },
    {
      "cell_type": "code",
      "source": [
        "40 * 48"
      ],
      "metadata": {
        "colab": {
          "base_uri": "https://localhost:8080/"
        },
        "id": "2gME69zC7Bki",
        "outputId": "4a30b40a-fbea-4364-c429-75a6622c27b0"
      },
      "execution_count": 2,
      "outputs": [
        {
          "output_type": "execute_result",
          "data": {
            "text/plain": [
              "1920"
            ]
          },
          "metadata": {},
          "execution_count": 2
        }
      ]
    },
    {
      "cell_type": "markdown",
      "source": [
        "### Escala 6x1 = 2112 horas"
      ],
      "metadata": {
        "id": "svL-pgDo8BQ2"
      }
    },
    {
      "cell_type": "markdown",
      "source": [
        "44 horas x 48 semanas = 2112 horas trabalhadas por ano"
      ],
      "metadata": {
        "id": "6aSXRmTC8Dy2"
      }
    },
    {
      "cell_type": "code",
      "source": [
        "44 * 48"
      ],
      "metadata": {
        "colab": {
          "base_uri": "https://localhost:8080/"
        },
        "id": "QWQ3JpcH7Bis",
        "outputId": "60828ec6-9aeb-4313-dc9c-bac41126220c"
      },
      "execution_count": 3,
      "outputs": [
        {
          "output_type": "execute_result",
          "data": {
            "text/plain": [
              "2112"
            ]
          },
          "metadata": {},
          "execution_count": 3
        }
      ]
    },
    {
      "cell_type": "markdown",
      "source": [
        "## Semana Parlamentar"
      ],
      "metadata": {
        "id": "H9xhrwyH8f0P"
      }
    },
    {
      "cell_type": "markdown",
      "source": [
        "No entanto, há ainda um tipo muito particular de \"trabalhador\" brasileiro: o político.\n",
        "\n",
        "Vamos considerar aqui apenas aqueles que fazem as nossas leis: os deputados federais e senadores.\n",
        "\n",
        "Esses trabalham num regime chamado \"semana parlamentar\" que funciona da seguinte forma:\n",
        "\n",
        "- de terça-feira até quinta-feira: estão presentes no congresso nacional.\n",
        "- segunda e sexta \"estão com suas bases, entendendo o que a população precisa\".\n",
        "\n",
        "Bom, por \"suas bases\" entenda sua família, pois sabemos que político só procura eleitor em tempos de eleição, logo, vamos considerar aqui que trabalhados mesmo, são apenas 3 dias na semana.\n",
        "\n",
        "Isso equivale a 24 horas trabalhadas por semana:"
      ],
      "metadata": {
        "id": "5Df6vSx78k0r"
      }
    },
    {
      "cell_type": "code",
      "source": [
        "3 * 8"
      ],
      "metadata": {
        "colab": {
          "base_uri": "https://localhost:8080/"
        },
        "id": "oY-5lLlH_g1J",
        "outputId": "7b1154d0-0394-4789-dd8d-d85fa46547d6"
      },
      "execution_count": 4,
      "outputs": [
        {
          "output_type": "execute_result",
          "data": {
            "text/plain": [
              "24"
            ]
          },
          "metadata": {},
          "execution_count": 4
        }
      ]
    },
    {
      "cell_type": "markdown",
      "source": [
        "# 55 dias de férias por ano"
      ],
      "metadata": {
        "id": "5snv7qAt--u4"
      }
    },
    {
      "cell_type": "markdown",
      "source": [
        "Além disso, diferente dos demais trabalhadores, as férias dos parlamentares possui 55 dias.\n",
        "\n",
        "Se você conversar com um deputado ou senador ele vai falar que não são bem férias, mas aquele contato com a base que já falamos acima.\n",
        "\n",
        "Então podemos considerar mais uma vez que é conversa de político, ou seja, realmente esses 55 dias são FÉRIAS!!!.\n",
        "\n",
        "Agora vamos às contas:"
      ],
      "metadata": {
        "id": "LGCu6N4j_Daw"
      }
    },
    {
      "cell_type": "markdown",
      "source": [
        "## Horas trabalhadas pelos parlamentares"
      ],
      "metadata": {
        "id": "MoWk7jRiD7NV"
      }
    },
    {
      "cell_type": "markdown",
      "source": [
        "\n",
        "55 dias de férias divididos por 7 dias temos quase 8 semanas, mas vamos considerar 7.\n",
        "\n",
        "Fingimos que acreditamos que essa outra semana eles estão de fato \"conversando com suas bases\""
      ],
      "metadata": {
        "id": "6uikz9FnD_zS"
      }
    },
    {
      "cell_type": "code",
      "source": [
        "55 / 7"
      ],
      "metadata": {
        "colab": {
          "base_uri": "https://localhost:8080/"
        },
        "id": "XSTApOTi7BgS",
        "outputId": "5d551785-f703-4f5d-c512-fa3bfaaa3c21"
      },
      "execution_count": 5,
      "outputs": [
        {
          "output_type": "execute_result",
          "data": {
            "text/plain": [
              "7.857142857142857"
            ]
          },
          "metadata": {},
          "execution_count": 5
        }
      ]
    },
    {
      "cell_type": "markdown",
      "source": [
        "Subtraindo essas 7 semanas de férias pelas 52 semanas que tem um ano chegamos ao total de 45 semanas trabalhadas pelos parlamentares, 3 semanas a mais (quase um mês) do que nós reles mortais que pagamos a conta."
      ],
      "metadata": {
        "id": "90lC1Oyz-d5F"
      }
    },
    {
      "cell_type": "code",
      "source": [
        "52 - 7"
      ],
      "metadata": {
        "colab": {
          "base_uri": "https://localhost:8080/"
        },
        "id": "m41I8iuJ7BeS",
        "outputId": "07d221e7-9c9d-4e81-eed0-2f6242a271b6"
      },
      "execution_count": 6,
      "outputs": [
        {
          "output_type": "execute_result",
          "data": {
            "text/plain": [
              "45"
            ]
          },
          "metadata": {},
          "execution_count": 6
        }
      ]
    },
    {
      "cell_type": "markdown",
      "source": [
        "## 1080 horas trabalhadas por ano"
      ],
      "metadata": {
        "id": "PKvoydhB_IAO"
      }
    },
    {
      "cell_type": "markdown",
      "source": [
        "Agora podemos calcular o total de horas trabalhadas por ano de um parlamentar:\n",
        "\n",
        "45 semanas x 24 horas = 1080 horas"
      ],
      "metadata": {
        "id": "4TDLObD5_Li7"
      }
    },
    {
      "cell_type": "code",
      "source": [
        "45 * 24"
      ],
      "metadata": {
        "colab": {
          "base_uri": "https://localhost:8080/"
        },
        "id": "Si_Dv8uC7BcJ",
        "outputId": "2d17953b-8354-482f-8e1b-e16056b7d6bd"
      },
      "execution_count": 7,
      "outputs": [
        {
          "output_type": "execute_result",
          "data": {
            "text/plain": [
              "1080"
            ]
          },
          "metadata": {},
          "execution_count": 7
        }
      ]
    },
    {
      "cell_type": "markdown",
      "source": [
        "## Comparando as horas trabalhadas por ano"
      ],
      "metadata": {
        "id": "jonIexUsAAF3"
      }
    },
    {
      "cell_type": "markdown",
      "source": [
        "Por fim, podemos comparar a quantidade de horas trabalhadas por ano de cada escala:\n",
        "\n",
        "- 6x1 = 2112\n",
        "- 5x1 = 1920\n",
        "- 3x4 = 1080"
      ],
      "metadata": {
        "id": "QkEIWz_OAFHf"
      }
    },
    {
      "cell_type": "code",
      "source": [
        "import seaborn as sns\n",
        "import pandas as pd\n",
        "import matplotlib.pyplot as plt"
      ],
      "metadata": {
        "id": "UFf5x3P57BZ7"
      },
      "execution_count": 8,
      "outputs": []
    },
    {
      "cell_type": "code",
      "source": [
        "data = {\n",
        "    \"Horas trabalhadas por ano\": [2112, 1920, 1080],\n",
        "}\n",
        "\n",
        "index = [\"Escala 6x1\", \"Escala 5x1\", \"Parlamentares\"]\n",
        "\n",
        "df = pd.DataFrame(data, index=index)\n",
        "\n",
        "df"
      ],
      "metadata": {
        "colab": {
          "base_uri": "https://localhost:8080/",
          "height": 143
        },
        "id": "bWa1Nk60BADc",
        "outputId": "577fe27c-cc95-482d-9e46-1b6351e024e5"
      },
      "execution_count": 9,
      "outputs": [
        {
          "output_type": "execute_result",
          "data": {
            "text/plain": [
              "               Horas trabalhadas por ano\n",
              "Escala 6x1                          2112\n",
              "Escala 5x1                          1920\n",
              "Parlamentares                       1080"
            ],
            "text/html": [
              "\n",
              "  <div id=\"df-9c5d9bd2-903d-4e7d-a185-5dfd88b9fd53\" class=\"colab-df-container\">\n",
              "    <div>\n",
              "<style scoped>\n",
              "    .dataframe tbody tr th:only-of-type {\n",
              "        vertical-align: middle;\n",
              "    }\n",
              "\n",
              "    .dataframe tbody tr th {\n",
              "        vertical-align: top;\n",
              "    }\n",
              "\n",
              "    .dataframe thead th {\n",
              "        text-align: right;\n",
              "    }\n",
              "</style>\n",
              "<table border=\"1\" class=\"dataframe\">\n",
              "  <thead>\n",
              "    <tr style=\"text-align: right;\">\n",
              "      <th></th>\n",
              "      <th>Horas trabalhadas por ano</th>\n",
              "    </tr>\n",
              "  </thead>\n",
              "  <tbody>\n",
              "    <tr>\n",
              "      <th>Escala 6x1</th>\n",
              "      <td>2112</td>\n",
              "    </tr>\n",
              "    <tr>\n",
              "      <th>Escala 5x1</th>\n",
              "      <td>1920</td>\n",
              "    </tr>\n",
              "    <tr>\n",
              "      <th>Parlamentares</th>\n",
              "      <td>1080</td>\n",
              "    </tr>\n",
              "  </tbody>\n",
              "</table>\n",
              "</div>\n",
              "    <div class=\"colab-df-buttons\">\n",
              "\n",
              "  <div class=\"colab-df-container\">\n",
              "    <button class=\"colab-df-convert\" onclick=\"convertToInteractive('df-9c5d9bd2-903d-4e7d-a185-5dfd88b9fd53')\"\n",
              "            title=\"Convert this dataframe to an interactive table.\"\n",
              "            style=\"display:none;\">\n",
              "\n",
              "  <svg xmlns=\"http://www.w3.org/2000/svg\" height=\"24px\" viewBox=\"0 -960 960 960\">\n",
              "    <path d=\"M120-120v-720h720v720H120Zm60-500h600v-160H180v160Zm220 220h160v-160H400v160Zm0 220h160v-160H400v160ZM180-400h160v-160H180v160Zm440 0h160v-160H620v160ZM180-180h160v-160H180v160Zm440 0h160v-160H620v160Z\"/>\n",
              "  </svg>\n",
              "    </button>\n",
              "\n",
              "  <style>\n",
              "    .colab-df-container {\n",
              "      display:flex;\n",
              "      gap: 12px;\n",
              "    }\n",
              "\n",
              "    .colab-df-convert {\n",
              "      background-color: #E8F0FE;\n",
              "      border: none;\n",
              "      border-radius: 50%;\n",
              "      cursor: pointer;\n",
              "      display: none;\n",
              "      fill: #1967D2;\n",
              "      height: 32px;\n",
              "      padding: 0 0 0 0;\n",
              "      width: 32px;\n",
              "    }\n",
              "\n",
              "    .colab-df-convert:hover {\n",
              "      background-color: #E2EBFA;\n",
              "      box-shadow: 0px 1px 2px rgba(60, 64, 67, 0.3), 0px 1px 3px 1px rgba(60, 64, 67, 0.15);\n",
              "      fill: #174EA6;\n",
              "    }\n",
              "\n",
              "    .colab-df-buttons div {\n",
              "      margin-bottom: 4px;\n",
              "    }\n",
              "\n",
              "    [theme=dark] .colab-df-convert {\n",
              "      background-color: #3B4455;\n",
              "      fill: #D2E3FC;\n",
              "    }\n",
              "\n",
              "    [theme=dark] .colab-df-convert:hover {\n",
              "      background-color: #434B5C;\n",
              "      box-shadow: 0px 1px 3px 1px rgba(0, 0, 0, 0.15);\n",
              "      filter: drop-shadow(0px 1px 2px rgba(0, 0, 0, 0.3));\n",
              "      fill: #FFFFFF;\n",
              "    }\n",
              "  </style>\n",
              "\n",
              "    <script>\n",
              "      const buttonEl =\n",
              "        document.querySelector('#df-9c5d9bd2-903d-4e7d-a185-5dfd88b9fd53 button.colab-df-convert');\n",
              "      buttonEl.style.display =\n",
              "        google.colab.kernel.accessAllowed ? 'block' : 'none';\n",
              "\n",
              "      async function convertToInteractive(key) {\n",
              "        const element = document.querySelector('#df-9c5d9bd2-903d-4e7d-a185-5dfd88b9fd53');\n",
              "        const dataTable =\n",
              "          await google.colab.kernel.invokeFunction('convertToInteractive',\n",
              "                                                    [key], {});\n",
              "        if (!dataTable) return;\n",
              "\n",
              "        const docLinkHtml = 'Like what you see? Visit the ' +\n",
              "          '<a target=\"_blank\" href=https://colab.research.google.com/notebooks/data_table.ipynb>data table notebook</a>'\n",
              "          + ' to learn more about interactive tables.';\n",
              "        element.innerHTML = '';\n",
              "        dataTable['output_type'] = 'display_data';\n",
              "        await google.colab.output.renderOutput(dataTable, element);\n",
              "        const docLink = document.createElement('div');\n",
              "        docLink.innerHTML = docLinkHtml;\n",
              "        element.appendChild(docLink);\n",
              "      }\n",
              "    </script>\n",
              "  </div>\n",
              "\n",
              "\n",
              "<div id=\"df-2849b41a-d42d-407a-b2f7-ec549dd8dae6\">\n",
              "  <button class=\"colab-df-quickchart\" onclick=\"quickchart('df-2849b41a-d42d-407a-b2f7-ec549dd8dae6')\"\n",
              "            title=\"Suggest charts\"\n",
              "            style=\"display:none;\">\n",
              "\n",
              "<svg xmlns=\"http://www.w3.org/2000/svg\" height=\"24px\"viewBox=\"0 0 24 24\"\n",
              "     width=\"24px\">\n",
              "    <g>\n",
              "        <path d=\"M19 3H5c-1.1 0-2 .9-2 2v14c0 1.1.9 2 2 2h14c1.1 0 2-.9 2-2V5c0-1.1-.9-2-2-2zM9 17H7v-7h2v7zm4 0h-2V7h2v10zm4 0h-2v-4h2v4z\"/>\n",
              "    </g>\n",
              "</svg>\n",
              "  </button>\n",
              "\n",
              "<style>\n",
              "  .colab-df-quickchart {\n",
              "      --bg-color: #E8F0FE;\n",
              "      --fill-color: #1967D2;\n",
              "      --hover-bg-color: #E2EBFA;\n",
              "      --hover-fill-color: #174EA6;\n",
              "      --disabled-fill-color: #AAA;\n",
              "      --disabled-bg-color: #DDD;\n",
              "  }\n",
              "\n",
              "  [theme=dark] .colab-df-quickchart {\n",
              "      --bg-color: #3B4455;\n",
              "      --fill-color: #D2E3FC;\n",
              "      --hover-bg-color: #434B5C;\n",
              "      --hover-fill-color: #FFFFFF;\n",
              "      --disabled-bg-color: #3B4455;\n",
              "      --disabled-fill-color: #666;\n",
              "  }\n",
              "\n",
              "  .colab-df-quickchart {\n",
              "    background-color: var(--bg-color);\n",
              "    border: none;\n",
              "    border-radius: 50%;\n",
              "    cursor: pointer;\n",
              "    display: none;\n",
              "    fill: var(--fill-color);\n",
              "    height: 32px;\n",
              "    padding: 0;\n",
              "    width: 32px;\n",
              "  }\n",
              "\n",
              "  .colab-df-quickchart:hover {\n",
              "    background-color: var(--hover-bg-color);\n",
              "    box-shadow: 0 1px 2px rgba(60, 64, 67, 0.3), 0 1px 3px 1px rgba(60, 64, 67, 0.15);\n",
              "    fill: var(--button-hover-fill-color);\n",
              "  }\n",
              "\n",
              "  .colab-df-quickchart-complete:disabled,\n",
              "  .colab-df-quickchart-complete:disabled:hover {\n",
              "    background-color: var(--disabled-bg-color);\n",
              "    fill: var(--disabled-fill-color);\n",
              "    box-shadow: none;\n",
              "  }\n",
              "\n",
              "  .colab-df-spinner {\n",
              "    border: 2px solid var(--fill-color);\n",
              "    border-color: transparent;\n",
              "    border-bottom-color: var(--fill-color);\n",
              "    animation:\n",
              "      spin 1s steps(1) infinite;\n",
              "  }\n",
              "\n",
              "  @keyframes spin {\n",
              "    0% {\n",
              "      border-color: transparent;\n",
              "      border-bottom-color: var(--fill-color);\n",
              "      border-left-color: var(--fill-color);\n",
              "    }\n",
              "    20% {\n",
              "      border-color: transparent;\n",
              "      border-left-color: var(--fill-color);\n",
              "      border-top-color: var(--fill-color);\n",
              "    }\n",
              "    30% {\n",
              "      border-color: transparent;\n",
              "      border-left-color: var(--fill-color);\n",
              "      border-top-color: var(--fill-color);\n",
              "      border-right-color: var(--fill-color);\n",
              "    }\n",
              "    40% {\n",
              "      border-color: transparent;\n",
              "      border-right-color: var(--fill-color);\n",
              "      border-top-color: var(--fill-color);\n",
              "    }\n",
              "    60% {\n",
              "      border-color: transparent;\n",
              "      border-right-color: var(--fill-color);\n",
              "    }\n",
              "    80% {\n",
              "      border-color: transparent;\n",
              "      border-right-color: var(--fill-color);\n",
              "      border-bottom-color: var(--fill-color);\n",
              "    }\n",
              "    90% {\n",
              "      border-color: transparent;\n",
              "      border-bottom-color: var(--fill-color);\n",
              "    }\n",
              "  }\n",
              "</style>\n",
              "\n",
              "  <script>\n",
              "    async function quickchart(key) {\n",
              "      const quickchartButtonEl =\n",
              "        document.querySelector('#' + key + ' button');\n",
              "      quickchartButtonEl.disabled = true;  // To prevent multiple clicks.\n",
              "      quickchartButtonEl.classList.add('colab-df-spinner');\n",
              "      try {\n",
              "        const charts = await google.colab.kernel.invokeFunction(\n",
              "            'suggestCharts', [key], {});\n",
              "      } catch (error) {\n",
              "        console.error('Error during call to suggestCharts:', error);\n",
              "      }\n",
              "      quickchartButtonEl.classList.remove('colab-df-spinner');\n",
              "      quickchartButtonEl.classList.add('colab-df-quickchart-complete');\n",
              "    }\n",
              "    (() => {\n",
              "      let quickchartButtonEl =\n",
              "        document.querySelector('#df-2849b41a-d42d-407a-b2f7-ec549dd8dae6 button');\n",
              "      quickchartButtonEl.style.display =\n",
              "        google.colab.kernel.accessAllowed ? 'block' : 'none';\n",
              "    })();\n",
              "  </script>\n",
              "</div>\n",
              "\n",
              "  <div id=\"id_ad7cd353-2339-465d-b94f-3572172fa6a8\">\n",
              "    <style>\n",
              "      .colab-df-generate {\n",
              "        background-color: #E8F0FE;\n",
              "        border: none;\n",
              "        border-radius: 50%;\n",
              "        cursor: pointer;\n",
              "        display: none;\n",
              "        fill: #1967D2;\n",
              "        height: 32px;\n",
              "        padding: 0 0 0 0;\n",
              "        width: 32px;\n",
              "      }\n",
              "\n",
              "      .colab-df-generate:hover {\n",
              "        background-color: #E2EBFA;\n",
              "        box-shadow: 0px 1px 2px rgba(60, 64, 67, 0.3), 0px 1px 3px 1px rgba(60, 64, 67, 0.15);\n",
              "        fill: #174EA6;\n",
              "      }\n",
              "\n",
              "      [theme=dark] .colab-df-generate {\n",
              "        background-color: #3B4455;\n",
              "        fill: #D2E3FC;\n",
              "      }\n",
              "\n",
              "      [theme=dark] .colab-df-generate:hover {\n",
              "        background-color: #434B5C;\n",
              "        box-shadow: 0px 1px 3px 1px rgba(0, 0, 0, 0.15);\n",
              "        filter: drop-shadow(0px 1px 2px rgba(0, 0, 0, 0.3));\n",
              "        fill: #FFFFFF;\n",
              "      }\n",
              "    </style>\n",
              "    <button class=\"colab-df-generate\" onclick=\"generateWithVariable('df')\"\n",
              "            title=\"Generate code using this dataframe.\"\n",
              "            style=\"display:none;\">\n",
              "\n",
              "  <svg xmlns=\"http://www.w3.org/2000/svg\" height=\"24px\"viewBox=\"0 0 24 24\"\n",
              "       width=\"24px\">\n",
              "    <path d=\"M7,19H8.4L18.45,9,17,7.55,7,17.6ZM5,21V16.75L18.45,3.32a2,2,0,0,1,2.83,0l1.4,1.43a1.91,1.91,0,0,1,.58,1.4,1.91,1.91,0,0,1-.58,1.4L9.25,21ZM18.45,9,17,7.55Zm-12,3A5.31,5.31,0,0,0,4.9,8.1,5.31,5.31,0,0,0,1,6.5,5.31,5.31,0,0,0,4.9,4.9,5.31,5.31,0,0,0,6.5,1,5.31,5.31,0,0,0,8.1,4.9,5.31,5.31,0,0,0,12,6.5,5.46,5.46,0,0,0,6.5,12Z\"/>\n",
              "  </svg>\n",
              "    </button>\n",
              "    <script>\n",
              "      (() => {\n",
              "      const buttonEl =\n",
              "        document.querySelector('#id_ad7cd353-2339-465d-b94f-3572172fa6a8 button.colab-df-generate');\n",
              "      buttonEl.style.display =\n",
              "        google.colab.kernel.accessAllowed ? 'block' : 'none';\n",
              "\n",
              "      buttonEl.onclick = () => {\n",
              "        google.colab.notebook.generateWithVariable('df');\n",
              "      }\n",
              "      })();\n",
              "    </script>\n",
              "  </div>\n",
              "\n",
              "    </div>\n",
              "  </div>\n"
            ],
            "application/vnd.google.colaboratory.intrinsic+json": {
              "type": "dataframe",
              "variable_name": "df",
              "summary": "{\n  \"name\": \"df\",\n  \"rows\": 3,\n  \"fields\": [\n    {\n      \"column\": \"Horas trabalhadas por ano\",\n      \"properties\": {\n        \"dtype\": \"number\",\n        \"std\": 548,\n        \"min\": 1080,\n        \"max\": 2112,\n        \"num_unique_values\": 3,\n        \"samples\": [\n          2112,\n          1920,\n          1080\n        ],\n        \"semantic_type\": \"\",\n        \"description\": \"\"\n      }\n    }\n  ]\n}"
            }
          },
          "metadata": {},
          "execution_count": 9
        }
      ]
    },
    {
      "cell_type": "code",
      "source": [
        "sns.set_theme(palette=\"Spectral\")\n",
        "\n",
        "fig, ax = plt.subplots(figsize=(20, 10))\n",
        "\n",
        "ax = sns.barplot(y=df[\"Horas trabalhadas por ano\"], x=df.index)\n",
        "\n",
        "ax.set_title(\"Horas trabalhadas por ano\", fontsize=50, y=1.1)\n",
        "ax.set_xlabel(None)\n",
        "ax.set_ylabel(\"Horas trabalhadas\", fontsize=40)\n",
        "ax.tick_params(labelsize=40)\n",
        "ax.set(yticklabels=[])\n",
        "\n",
        "for i in ax.containers:\n",
        "  ax.bar_label(i, fontsize=50, padding=-65)\n",
        "\n",
        "plt.show()"
      ],
      "metadata": {
        "colab": {
          "base_uri": "https://localhost:8080/",
          "height": 724
        },
        "id": "Q2L3lKeg7BX0",
        "outputId": "32cd5be4-5c2b-4fa4-8d77-eccbd4ad707b"
      },
      "execution_count": 10,
      "outputs": [
        {
          "output_type": "display_data",
          "data": {
            "text/plain": [
              "<Figure size 2000x1000 with 1 Axes>"
            ],
            "image/png": "[encoded data removed]"
          },
          "metadata": {}
        }
      ]
    },
    {
      "cell_type": "code",
      "source": [
        "fig = ax.get_figure()\n",
        "fig.savefig(\"output.png\", bbox_inches=\"tight\")"
      ],
      "metadata": {
        "id": "SbEg9a8i7BVf"
      },
      "execution_count": 11,
      "outputs": []
    },
    {
      "cell_type": "code",
      "source": [],
      "metadata": {
        "id": "dfnOJD9HDfYB"
      },
      "execution_count": 11,
      "outputs": []
    }
  ]
}